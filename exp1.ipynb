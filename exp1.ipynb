{
 "cells": [
  {
   "cell_type": "code",
   "execution_count": 1,
   "metadata": {},
   "outputs": [],
   "source": [
    "import numpy as np\n",
    "import matplotlib.pyplot as plt"
   ]
  },
  {
   "cell_type": "code",
   "execution_count": 3,
   "metadata": {},
   "outputs": [],
   "source": [
    "x=np.array(eval(input(\"Enter the list of x:\")))\n",
    "y=np.array(eval(input(\"Enter the list of y:\")))\n"
   ]
  },
  {
   "cell_type": "code",
   "execution_count": 4,
   "metadata": {},
   "outputs": [],
   "source": [
    "\n",
    "xmean=np.mean(x)\n",
    "ymean=np.mean(y)\n",
    "num=0 # for slope\n",
    "den=0 # for slope"
   ]
  },
  {
   "cell_type": "code",
   "execution_count": 5,
   "metadata": {},
   "outputs": [],
   "source": [
    "\n",
    "for i in range(len(x)):\n",
    "    num+=(x[i]-xmean)*(y[i]-ymean)\n",
    "    den+=(x[i]-xmean)**2\n",
    "    \n",
    "    "
   ]
  },
  {
   "cell_type": "code",
   "execution_count": 6,
   "metadata": {},
   "outputs": [],
   "source": [
    "m=num/den\n",
    "c=ymean-m*xmean\n",
    "b=ymean-m*xmean\n",
    "\n"
   ]
  },
  {
   "cell_type": "code",
   "execution_count": 7,
   "metadata": {},
   "outputs": [
    {
     "name": "stdout",
     "output_type": "stream",
     "text": [
      "[27.92265943 27.87549525 27.95696065 27.82404342 27.73400271 27.68683853]\n"
     ]
    }
   ],
   "source": [
    "ypred=m*x+b\n",
    "print(ypred)\n"
   ]
  },
  {
   "cell_type": "code",
   "execution_count": 8,
   "metadata": {},
   "outputs": [
    {
     "name": "stdout",
     "output_type": "stream",
     "text": [
      "Numerator :  -13.166666666666657\n",
      "Denominator :  3070.833333333334\n",
      "Slope / m :  -0.004287652645861597\n",
      "Y-Intercept :  27.969823609226594\n",
      "Y-Precict :  [27.92265943 27.87549525 27.95696065 27.82404342 27.73400271 27.68683853]\n"
     ]
    },
    {
     "data": {
      "image/png": "[encoded data removed]",
      "text/plain": [
       "<Figure size 640x480 with 1 Axes>"
      ]
     },
     "metadata": {},
     "output_type": "display_data"
    }
   ],
   "source": [
    "\n",
    "print(\"Numerator : \",num)\n",
    "print(\"Denominator : \",den)\n",
    "print(\"Slope / m : \",m)\n",
    "print(\"Y-Intercept : \",c)\n",
    "print(\"Y-Precict : \",ypred)\n",
    "\n",
    "plt.scatter(x,y,color=\"Red\")\n",
    "plt.plot(x,ypred,color=\"Blue\")\n",
    "plt.show()\n"
   ]
  },
  {
   "cell_type": "code",
   "execution_count": null,
   "metadata": {},
   "outputs": [],
   "source": []
  }
 ],
 "metadata": {
  "kernelspec": {
   "display_name": "Python 3",
   "language": "python",
   "name": "python3"
  },
  "language_info": {
   "codemirror_mode": {
    "name": "ipython",
    "version": 3
   },
   "file_extension": ".py",
   "mimetype": "text/x-python",
   "name": "python",
   "nbconvert_exporter": "python",
   "pygments_lexer": "ipython3",
   "version": "3.11.5"
  }
 },
 "nbformat": 4,
 "nbformat_minor": 2
}
